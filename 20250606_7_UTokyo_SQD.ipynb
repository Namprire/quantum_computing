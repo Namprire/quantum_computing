{
 "cells": [
  {
   "cell_type": "markdown",
   "id": "d4c1637d-39d8-4b10-94b4-fda6bd43e2fd",
   "metadata": {},
   "source": [
    "The University of Tokyo    \n",
    "Special Lectures in Information Science Ⅱ    \n",
    "Introduction to Near-Term Quantum Computing"
   ]
  },
  {
   "cell_type": "markdown",
   "id": "63badbd0-234a-41bc-91a6-16759a6b3434",
   "metadata": {},
   "source": [
    "# 7. Sample-based quantum diagonalization (SQD)\n",
    "Kifumi Numata, IBM Quantum (Jun 6, 2025)"
   ]
  },
  {
   "cell_type": "markdown",
   "id": "d946d0a3-461b-467d-b67c-41b79f687b43",
   "metadata": {},
   "source": [
    "## Table of Contents\n",
    "\n",
    "* Part 1: Tutorial - Learn how to use the `qiskit-addon-sqd` api to approximate a molecule's ground state\n",
    "* Part 2: Challenge - Modify the size of the subspace in which the operator is projected and diagonalized to improve ground state estimation\n",
    "* Part 3: Bonus - Real hardware execution"
   ]
  },
  {
   "cell_type": "markdown",
   "id": "ac4700e5-6de9-42c3-915d-c21f4c789973",
   "metadata": {},
   "source": [
    "## Getting Started\n",
    "To begin, ensure you have installed the required Qiskit addon packages for this notebook. We recommend using pip to install the `qiskit-addon-sqd` package, which includes essential tools for the Sample-Based Quantum Diagonalization (SQD) method. \n"
   ]
  },
  {
   "cell_type": "code",
   "execution_count": null,
   "id": "26f554cf-8345-4120-b82c-19062b5b539d",
   "metadata": {},
   "outputs": [],
   "source": [
    "# Required packages for google corab users\n",
    "# %pip install qiskit\n",
    "# %pip install qiskit-aer\n",
    "# %pip install qiskit-ibm-runtime\n",
    "# %pip install qiskit-ibm-transpiler\n",
    "# %pip install qiskit-addon-sqd==0.10.0\n",
    "# %pip install pyscf\n",
    "# %pip install ffsim"
   ]
  },
  {
   "cell_type": "code",
   "execution_count": null,
   "id": "9fdf5be9-da45-4419-b757-944ca8c455aa",
   "metadata": {},
   "outputs": [],
   "source": [
    "# Required packages for local qiskit users\n",
    "%pip install qiskit-addon-sqd==0.10.0\n",
    "%pip install pyscf\n",
    "%pip install ffsim"
   ]
  },
  {
   "cell_type": "markdown",
   "id": "68667504-032d-4367-a9a6-5170cafd4825",
   "metadata": {},
   "source": [
    "For more installation information, refer to the [installation instructions](https://qiskit.github.io/qiskit-addon-sqd/install.html) in the documentation. Now that your environment is ready, let's get started! "
   ]
  },
  {
   "cell_type": "markdown",
   "id": "9093dfb1-a262-45a8-8355-5dc2cee3f86b",
   "metadata": {},
   "source": [
    "## Overview\n",
    "The **Sample-Based Quantum Diagonalization (SQD)** method is designed to overcome limitations of exact diagonalization methods, making it suitable for handling large Hamiltonians with millions of interaction terms, such as those found in quantum chemistry. Using a sample-based approach, SQD projects and diagonalizes target Hamiltonians in a subspace formed by samples obtained from quantum circuits. These circuits are typically tailored to represent probable eigenstates of the target operator, enabling robust calculations even in the presence of quantum noise.\n",
    "\n",
    "This notebook guides you through the SQD Qiskit addon; you'll learn how the SQD method works and explore its application to a Fermionic Hamiltonian. The notebook is structured as follows:\n",
    "\n",
    "- **Part 1: Tutorial**  \n",
    "    In Part 1, you will learn how to use a Qiskit addon to set up and execute the SQD method for a Hamiltonian describing the $N_2$ molecule in a given basis. This section will provide you with hands-on experience with Qiskit addons, focusing on **energy estimation** using quantum samples combined with classical solvers.\n",
    "\n",
    "- **Part 2: Challenge**  \n",
    "    Once you've completed the tutorial, you'll move on to the challenge section. Here, you will be tasked with tuning parameters to improve the performance of SQD and achieve a closer approximation of the molecule's ground state energy. **Your goal** is to refine the parameters to enhance accuracy while considering noise and other quantum device constraints.\n",
    "\n",
    "- **Part 3: Bonus - Real hardware execution**    \n",
    "    Execute the circuit with your best parameters on the real quantum device. "
   ]
  },
  {
   "cell_type": "markdown",
   "id": "9e40af77-7f0f-4dd6-ab0a-420cf396050e",
   "metadata": {},
   "source": [
    "# Part 1: Tutorial - Energy Estimation of a Fermionic Hamiltonian with Sample-Based Quantum Diagonalization"
   ]
  },
  {
   "cell_type": "markdown",
   "id": "84b97410-e048-4f87-800d-fcc59bcded11",
   "metadata": {},
   "source": [
    "In this tutorial we will implement a [Qiskit pattern](https://docs.quantum.ibm.com/guides/intro-to-patterns) showing how to post-process noisy quantum samples to find an approximation to the ground state of the $N_2$ molecule at equilibrium in the ``6-31G basis set``. We will follow a sample-based quantum diagonalization approach [[1]](https://arxiv.org/abs/2405.05068) to process samples taken from a ``36``-qubit quantum circuit (32 spin qubits + 4 auxiliary qubits). In order to account for the effect of quantum noise, the [self-configuration recovery technique is used](https://arxiv.org/abs/2405.05068).\n",
    "\n",
    "The pattern can be described in four steps:\n",
    "\n",
    "1. **Map to quantum problem**\n",
    "    - Generate an ansatz for estimating the ground state\n",
    "2. **Optimize the problem**\n",
    "    - Transpile the ansatz for the backend\n",
    "3. **Execute experiments**\n",
    "    - Draw samples from the ansatz using the ``Sampler`` primitive\n",
    "4. **Post-process results**\n",
    "   - Self-consistent configuration recovery loop\n",
    "       - Post-process the full set of bitstring samples, using prior knowledge of particle number and the average orbital occupancy calculated on the most recent iteration.\n",
    "       - Probabilistically create batches of subsamples from recovered bitstrings.\n",
    "       - Project and diagonalize the molecular Hamiltonian over each sampled subspace.\n",
    "       - Save the minimum ground state energy found across all batches and update the average orbital occupancy.\n",
    "\n",
    "\n",
    "For this example, the interacting-electron Hamiltonian takes the generic form:\n",
    "\n",
    "$$\n",
    "\\hat{H} = \\sum_{ \\substack{pr\\\\\\sigma} } h_{pr} \\, \\hat{a}^\\dagger_{p\\sigma} \\hat{a}_{r\\sigma}\n",
    "+ \n",
    "\\sum_{ \\substack{prqs\\\\\\sigma\\tau} }\n",
    "\\frac{(pr|qs)}{2} \\, \n",
    "\\hat{a}^\\dagger_{p\\sigma}\n",
    "\\hat{a}^\\dagger_{q\\tau}\n",
    "\\hat{a}_{s\\tau}\n",
    "\\hat{a}_{r\\sigma}\n",
    "$$\n",
    "\n",
    "$\\hat{a}^\\dagger_{p\\sigma}$/$\\hat{a}_{p\\sigma}$ are the fermionic creation/annihilation operators associated to the $p$-th basis set element and the spin $\\sigma$. $h_{pr}$ and $(pr|qs)$ are the one- and two-body electronic integrals. These are loaded from an ``fcidump`` file with standard chemistry software.\n",
    "\n",
    "The SQD workflow with self-consistent configuration recovery is depicted in the following diagram.\n",
    "\n",
    "![SQD diagram](https://docs.quantum.ibm.com/_next/image?url=%2Fimages%2Fguides%2Fqiskit-addons%2Fsqd_diagram.avif&w=1920&q=75)\n",
    "\n",
    "SQD is known to work well when the target eigenstate is sparse: the wave function is supported in a set of basis states $\\mathcal{S} = \\{|x\\rangle \\}$ whose size increases polynomially with the size of the problem. In this scenario, the diagonalization of the Hamiltonian projected into the subspace defined by $\\mathcal{S}$:\n",
    "$$\n",
    "H_\\mathcal{S} = P_\\mathcal{S} H  P_\\mathcal{S} \\textrm{ with } P_\\mathcal{S} = \\sum_{x \\in \\mathcal{S}} |x \\rangle \\langle x |;\n",
    "$$\n",
    "yields a good approximation to the target eigenstate. The role of the quantum device is to produce samples of the members of $\\mathcal{S}$ only. First, a quantum circuit prepares the state $|\\Psi\\rangle$ in the quantum device. The Jordan-Wigner encoding is used. Consequently, members of the computational basis represent Fock states (electronic configurations/determinants). The circuit is sampled in the computational basis, yielding the set of noisy configurations $\\tilde{\\mathcal{X}}$. The configurations are represented by bitstrings. The set $\\tilde{\\mathcal{X}}$ is then passed into the classical post-processing block, where the [self-consistent configuration recovery technique](https://arxiv.org/abs/2405.05068) is used. In the SQD framework, the role of the quantum device is to produce a probability distribution."
   ]
  },
  {
   "cell_type": "markdown",
   "id": "afeb054c",
   "metadata": {},
   "source": [
    "### Map problem to a quantum circuit\n",
    "\n",
    "In this tutorial, we will approximate the ground state energy of an $N_2$ molecule. First, we will specify the molecule and its properties. Next, we will create a [local unitary cluster Jastrow (LUCJ)](https://pubs.rsc.org/en/content/articlelanding/2023/sc/d3sc02516k) ansatz (quantum circuit) to generate samples from a quantum computer for ground state energy estimation.\n",
    "\n",
    "First, we will specify the molecule and its properties."
   ]
  },
  {
   "cell_type": "markdown",
   "id": "3fcd4a68-7040-4b30-8253-d5c05042fc16",
   "metadata": {},
   "source": [
    "<div class=\"alert alert-block alert-info\">\n",
    "    \n",
    "⚠️ **Note:** The circuit data is precomputed and provided in this notebook, so `pyscf` installation is not required. You may skip the cell below and proceed directly to the **\"Loading the Optimized Ansatz\"** section.\n",
    "</div>\n"
   ]
  },
  {
   "cell_type": "code",
   "execution_count": null,
   "id": "677f54ac-b4ed-47e3-b5ba-5366d3a520f9",
   "metadata": {},
   "outputs": [],
   "source": [
    "import warnings, pickle\n",
    "import numpy as np\n",
    "warnings.filterwarnings(\"ignore\")\n",
    "\n",
    "# from pyscf import ao2mo, tools\n",
    "\n",
    "# Specify molecule properties\n",
    "num_orbitals = 16\n",
    "num_elec_a = num_elec_b = 5\n",
    "open_shell = False\n",
    "spin_sq = 0\n",
    "\n",
    "# Read in molecule from disk if using pyscf\n",
    "# mf_as = tools.fcidump.to_scf(\"utils/n2_fci.txt\")\n",
    "# hcore = mf_as.get_hcore()\n",
    "# eri = ao2mo.restore(1, mf_as._eri, num_orbitals)\n",
    "# nuclear_repulsion_energy = mf_as.mol.energy_nuc()\n",
    "\n",
    "# Load values if not using pyscf\n",
    "hcore = np.load(\"utils/hcore.npy\")  #one-body electronic integrals\n",
    "eri = np.load(\"utils/eri.npy\")  #two-body electronic integrals\n",
    "with open(\"utils/nuclear_repulsion_energy.pkl\", \"rb\") as f:\n",
    "    nuclear_repulsion_energy = pickle.load(f)"
   ]
  },
  {
   "cell_type": "markdown",
   "id": "96bfe018",
   "metadata": {},
   "source": [
    "Next, we will create the ansatz. The ``LUCJ`` ansatz is a parameterized quantum circuit, and we will initialize it with `t2` and `t1` amplitudes obtained from a CCSD calculation."
   ]
  },
  {
   "cell_type": "code",
   "execution_count": null,
   "id": "66270387",
   "metadata": {},
   "outputs": [],
   "source": [
    "# from pyscf import cc\n",
    "\n",
    "# mf_as.kernel()\n",
    "# mc = cc.CCSD(mf_as)\n",
    "# mc.kernel()\n",
    "# t1 = mc.t1\n",
    "# t2 = mc.t2"
   ]
  },
  {
   "attachments": {},
   "cell_type": "markdown",
   "id": "f4d882fa",
   "metadata": {},
   "source": [
    "## Loading the optimized ansatz\n",
    "\n",
    "In this tutorial, we’ll begin with a pre-prepared and **optimized ansatz file**. The pre-prepared ansatz has been created with IBM's heavy-hex topology in mind, adopting a **zig-zag pattern** for qubit interactions. In this pattern, orbitals of the same spin are connected in a zig-zag line across the heavy-hex lattice (shown below).\n",
    "\n",
    "![lucj_ansatz](https://learning-api.quantum.ibm.com/assets/bbe59805-f2aa-4d34-97ca-aa7200442802?format=auto&quality=80)\n",
    "\n",
    "\n",
    "The optimized ansatz file has the circuit configured with `t1` and `t2` amplitudes for our molecule’s closed-shell Hartree-Fock state. By starting with an already optimized circuit, we can focus directly on the quantum diagonalization tasks. For more details on how this is implemented, check out the tutorial in the docs [here](https://learning.quantum.ibm.com/tutorial/improving-energy-estimation-of-a-fermionic-hamiltonian-with-sqd).\n",
    "\n"
   ]
  },
  {
   "cell_type": "code",
   "execution_count": null,
   "id": "dbecf963-3a42-45fe-982a-7a1ad769c6d7",
   "metadata": {},
   "outputs": [],
   "source": [
    "from qiskit import qpy\n",
    " \n",
    "with open('utils/N2_UCJ_Transpiled.qpy', 'rb') as fd:\n",
    "    isa_circuit = qpy.load(fd)[0]"
   ]
  },
  {
   "cell_type": "markdown",
   "id": "0cc1edef",
   "metadata": {},
   "source": [
    "### Execute experiments"
   ]
  },
  {
   "cell_type": "markdown",
   "id": "cbf7ef9f",
   "metadata": {},
   "source": [
    "After optimizing the circuit for hardware execution, we are ready to run it on the target hardware and collect samples for ground state energy estimation.\n",
    "\n",
    "<div class=\"alert alert-block alert-warning\">\n",
    "    \n",
    "⚠️ **Note:** We have commented out the code for running the circuit on a QPU and left it for the user's reference. Instead of running on real hardware in this walkthrough, we will just read in 100k samples drawn from ``ibm_sherbrooke`` at an earlier time.\n",
    "\n",
    "</div>\n"
   ]
  },
  {
   "cell_type": "code",
   "execution_count": null,
   "id": "3da09100",
   "metadata": {},
   "outputs": [],
   "source": [
    "import numpy as np\n",
    "\n",
    "# from qiskit_ibm_runtime import SamplerV2 as Sampler\n",
    "\n",
    "# sampler = Sampler(mode=backend)\n",
    "# job = sampler.run([isa_circuit], shots=100_000)\n",
    "# primitive_result = job.result()\n",
    "# pub_result = primitive_result[0]\n",
    "# counts = pub_result.data.meas.get_counts()\n",
    "\n",
    "from qiskit_addon_sqd.counts import generate_counts_uniform\n",
    "\n",
    "counts = np.load(\"utils/N2_device_counts.npy\", allow_pickle=True).item()"
   ]
  },
  {
   "cell_type": "markdown",
   "id": "6df05b6e",
   "metadata": {},
   "source": [
    "### Post-process results using SQD"
   ]
  },
  {
   "cell_type": "markdown",
   "id": "851bc98e-9c08-4e78-9472-36301abc11d8",
   "metadata": {},
   "source": [
    "In this section, we’ll post-process the quantum samples generated from the optimized ansatz to estimate the molecule’s ground state energy. This step involves transforming our data, iteratively refining it, and applying self-consistent configuration recovery to improve accuracy.\n",
    "\n",
    "### Step 1: Convert Counts to Bitstring and Probability Arrays\n",
    "\n",
    "We start by converting the raw counts from our quantum device into a **bitstring matrix** and a **probability array**. Each row in the bitstring matrix represents a unique quantum state (bitstring) sampled from our circuit. Since qubits are indexed from the right of a bitstring in Qiskit, column ``0`` represents qubit ``N-1``, and column ``N-1`` represents qubit ``0``, where ``N`` is the number of qubits.\n",
    "\n",
    "The probability array reflects the likelihood of each bitstring occurring in the sampled data. Following the ordering from the LUCJ ansatz, the alpha particles are represented in the column index range ``(N, N/2]``, and the beta particles are represented in the column range ``(N/2, 0]``."
   ]
  },
  {
   "cell_type": "code",
   "execution_count": null,
   "id": "7a102a7f-aae6-4583-ab82-ae40fcb5496a",
   "metadata": {},
   "outputs": [],
   "source": [
    "from qiskit_addon_sqd.counts import counts_to_arrays\n",
    "\n",
    "# Convert counts into bitstring and probability arrays\n",
    "bitstring_matrix_full, probs_arr_full = counts_to_arrays(counts)"
   ]
  },
  {
   "cell_type": "markdown",
   "id": "eb704101-0fe8-4d12-b572-b1d844e35a90",
   "metadata": {},
   "source": [
    "Iteratively refine the samples using configuration recovery and approximate the ground state at each iteration\n",
    "\n",
    "There are a few user-controlled options which are important for this technique:\n",
    "\n",
    "- ``iterations``: Number of self-consistent configuration recovery iterations\n",
    "- ``n_batches``: Number of batches of configurations used by the different calls to the eigenstate solver\n",
    "- ``samples_per_batch``: Number of unique configurations to include in each batch\n",
    "- ``max_davidson_cycles``: Maximum number of Davidson cycles run by each eigensolver"
   ]
  },
  {
   "cell_type": "code",
   "execution_count": null,
   "id": "247c7fd0-2ee3-4f47-9abc-ed2445a37048",
   "metadata": {},
   "outputs": [],
   "source": [
    "# SQD options\n",
    "iterations = 5\n",
    "rand_seed = 42\n",
    "\n",
    "# Eigenstate solver options\n",
    "n_batches = 5\n",
    "samples_per_batch = 50\n",
    "max_davidson_cycles = 200"
   ]
  },
  {
   "cell_type": "markdown",
   "id": "244ff7f8-5bfa-4d2b-82d4-16fd3eafa542",
   "metadata": {},
   "source": [
    "Additionally, we must initialize a couple of data structures that will be used throughout the course of the SQD algorithm.\n",
    "\n",
    "- ``energy_hist``: The history of ground state energies obtained for the individual batches at each iteration of the algorithm\n",
    "- ``occupancy_hist``: The occupancy of each spin orbital averaged over all batches at each iteration of the algorithm\n",
    "- ``occupancies_bitwise``: An array containing the average orbital occupancies, such that element ``i`` corresponds to the same orbital as the ``i``'th bit in the samples. When this is `None`, it signifies we are on iteration ``0`` and have no occupancy information yet. In that case, we simply discard all non-physical samples (samples with incorrect hamming weight)."
   ]
  },
  {
   "cell_type": "code",
   "execution_count": null,
   "id": "b1c85423-cc1a-47b6-a0dc-b5dcdca575fe",
   "metadata": {},
   "outputs": [],
   "source": [
    "energy_hist = np.zeros((iterations, n_batches))  # energy history\n",
    "occupancy_hist = []\n",
    "avg_occupancy = None"
   ]
  },
  {
   "cell_type": "markdown",
   "id": "3cdeac18-59c7-4a6b-a7d8-deba0f9dbade",
   "metadata": {},
   "source": [
    "**Bootstrapping SQD**\n",
    "\n",
    "Iteration ``0`` of SQD is a special case, so we will use it to explain each step in the algorithm before proceeding to the configuration recovery loop.\n",
    "\n",
    "1. Refine **all** raw samples from QPU\n",
    "2. Subsampling\n",
    "3. Subspace diagonalization\n",
    "4. Update tracked quantities"
   ]
  },
  {
   "cell_type": "markdown",
   "id": "a12e1ba6-a9ff-47fd-b34a-6457a7571a7f",
   "metadata": {},
   "source": [
    "**1. Refine all raw samples from QPU**\n",
    "\n",
    "Since we have not yet done any subspace diagonalization, we do not have any information about the average orbital occupancy from those solutions. Therefore, we cannot do configuration recovery during iteration ``0``.\n",
    "\n",
    "Instead, we simply remove all non-physical samples (samples with incorrect hamming weight in either the alpha or beta systems) and diagonalize in subspaces formed by the remaining configurations. This will be done during the next step.\n",
    "<div class=\"alert alert-block alert-info\">\n",
    "    \n",
    "⚠️ **Note**: If the QPU does not produce enough samples which support the ground state, the SQD algorithm will not be able to bootstrap. The technique requires the ansatz be a good description of the ground state and for samples from that ansatz to contain adequate support of the ground state.\n",
    "\n",
    "</div>\n"
   ]
  },
  {
   "cell_type": "code",
   "execution_count": null,
   "id": "62790586-b558-42b1-8c4f-528a6fac1850",
   "metadata": {},
   "outputs": [],
   "source": [
    "bitstring_matrix_tmp = bitstring_matrix_full\n",
    "probs_arr_tmp = probs_arr_full"
   ]
  },
  {
   "cell_type": "markdown",
   "id": "ab8a7dfd-3bdb-4dd7-a287-b2e90c220753",
   "metadata": {},
   "source": [
    "**2. Subsampling**\n",
    "\n",
    "In the second step of SQD, we must generate the batches of samples. We previously set ``bitstring_matrix_tmp`` and ``probs_array_tmp`` to include **all** the raw samples from the QPU. Normally, the batches of subsamples would be sampled from a refined set of bitstrings, but for iteration ``0`` the batches will be selected from the raw QPU samples which reflect correct particle number in both the alpha and beta subsystems."
   ]
  },
  {
   "cell_type": "code",
   "execution_count": null,
   "id": "48f0808b-0b1e-40fe-8d34-b837ef7e3ae0",
   "metadata": {},
   "outputs": [],
   "source": [
    "from qiskit_addon_sqd.subsampling import postselect_and_subsample\n",
    "\n",
    "batches = postselect_and_subsample(\n",
    "    bitstring_matrix_tmp,\n",
    "    probs_arr_tmp,\n",
    "    hamming_right=num_elec_a,\n",
    "    hamming_left=num_elec_b,\n",
    "    samples_per_batch=samples_per_batch,\n",
    "    num_batches=n_batches,\n",
    "    rand_seed=rand_seed,\n",
    ")"
   ]
  },
  {
   "cell_type": "markdown",
   "id": "ce8c3c72-e592-4c72-8fb3-ccdac1f542c4",
   "metadata": {},
   "source": [
    "Now that we have batches of subsamples, we must project and diagonalize the Hamiltonian in each of the subspaces spanned by those subsamples. This is, computationally, most demanding part of the algorithm, and it will likely be necessary to parallelize these solvers for utility-scale problems. Since the problem in this example is relatively small, we will just run the solvers in a loop."
   ]
  },
  {
   "cell_type": "code",
   "execution_count": null,
   "id": "b806e037-40d3-49ea-9880-743c48c6c89f",
   "metadata": {},
   "outputs": [],
   "source": [
    "from qiskit_addon_sqd.fermion import solve_fermion\n",
    "\n",
    "# Run eigenstate solvers in a loop. This loop should be parallelized for larger problems.\n",
    "e_tmp = np.zeros(n_batches)\n",
    "occs_tmp = []\n",
    "for j in range(n_batches):\n",
    "    energy_sci, coeffs_sci, avg_occs, spin = solve_fermion(\n",
    "        batches[j],\n",
    "        hcore, #one-body electronic integrals\n",
    "        eri, #two-body electronic integrals\n",
    "        open_shell=open_shell, \n",
    "        spin_sq=spin_sq,\n",
    "        max_davidson=max_davidson_cycles,\n",
    "     )\n",
    "    energy_sci += nuclear_repulsion_energy \n",
    "    e_tmp[j] = energy_sci #energy\n",
    "    occs_tmp.append(avg_occs) #avarage occupancy"
   ]
  },
  {
   "cell_type": "markdown",
   "id": "da6543ba-dc89-4d8b-80da-9d4c46e70b4b",
   "metadata": {},
   "source": [
    "**Update the tracked quantities**\n",
    "\n",
    "We have now reached the end of the first iteration of the SQD algorithm, and all that is left to do is to append our tracked quantities to the history and begin the next iteration.\n",
    "\n",
    "Here it is important to note that we can combine the average occupancies from across all batches to further refine their averages. In contrast, for the energy values we will only be interested in the minimal energy value obtained across the all the batches."
   ]
  },
  {
   "cell_type": "code",
   "execution_count": null,
   "id": "bf24db12-5eff-4c6f-9462-862c65424bcd",
   "metadata": {},
   "outputs": [],
   "source": [
    "# Combine batch results\n",
    "avg_occupancy = tuple(np.mean(occs_tmp, axis=0))\n",
    "\n",
    "# Track optimization history\n",
    "energy_hist[0, :] = e_tmp\n",
    "occupancy_hist.append(avg_occupancy)"
   ]
  },
  {
   "cell_type": "markdown",
   "id": "38422404-bbd6-48f9-9ddc-cfb8c7ad07f8",
   "metadata": {},
   "source": [
    "**Continuing configuration recovery**\n",
    "\n",
    "After having completed the first iteration of the SQD algorithm step-by-step, we are now ready to run the remaining iterations in a loop.\n",
    "\n",
    "In the following code cell, you see all of the previous steps combined into one big loop, with one major difference: we now have gathered the average occupancy information (``avg_occupancies``) which we can use to perform configuration recovery at the beginning of the loop."
   ]
  },
  {
   "cell_type": "markdown",
   "id": "e88d7540-66b3-429d-8093-4688521648b5",
   "metadata": {},
   "source": [
    "<a id=\"exercise_1\"></a>\n",
    "<div class=\"alert alert-block alert-success\">\n",
    "    \n",
    "<b>Exercise 1: Combine the steps into one loop</b> \n",
    "\n",
    "Combine all of the previous steps into one big loop. We alredy have completed the first iteration of the loop, so we are now run from the 2nd loop.\n",
    "\n",
    "</div>"
   ]
  },
  {
   "cell_type": "code",
   "execution_count": null,
   "id": "b72c048e-fe8e-4fc2-b28b-03138249074e",
   "metadata": {},
   "outputs": [],
   "source": [
    "%%time\n",
    "from qiskit_addon_sqd.configuration_recovery import recover_configurations\n",
    "\n",
    "for i in range(1, iterations):\n",
    "    print(f\"Starting configuration recovery iteration {i}\")\n",
    "    bitstring_matrix_tmp, probs_arr_tmp = recover_configurations(\n",
    "        bitstring_matrix_full,\n",
    "        probs_arr_full,\n",
    "        avg_occupancy,\n",
    "        num_elec_a,\n",
    "        num_elec_b,\n",
    "        rand_seed=rand_seed,\n",
    "     )\n",
    "\n",
    "    # Create batches, and throw out configurations with incorrect particle\n",
    "    # number in either the spin-up or spin-down systems\n",
    "    batches = ### input your code here ###\n",
    "\n",
    "\n",
    "\n",
    "\n",
    "    \n",
    "\n",
    "    # Run eigenstate solvers in a loop. This loop should be parallelized for larger problems.\n",
    "    e_tmp = np.zeros(n_batches)\n",
    "    occs_tmp = []\n",
    "    for j in range(n_batches):\n",
    "        energy_sci, coeffs_sci, avg_occs, spin = ### input your code here ###\n",
    "\n",
    "\n",
    "\n",
    "\n",
    "        \n",
    "        \n",
    "        energy_sci += nuclear_repulsion_energy\n",
    "        e_tmp[j] = energy_sci\n",
    "        occs_tmp.append(avg_occs)\n",
    "\n",
    "    # Combine batch results\n",
    "    avg_occupancy = tuple(np.mean(occs_tmp, axis=0))\n",
    "\n",
    "    # Track optimization history\n",
    "    energy_hist[i, :] = e_tmp\n",
    "    occupancy_hist.append(avg_occupancy)    "
   ]
  },
  {
   "cell_type": "code",
   "execution_count": null,
   "id": "170809cd-03fc-4273-8bdd-2710d29a9ecc",
   "metadata": {},
   "outputs": [],
   "source": [
    "min_e = np.min(energy_hist) \n",
    "print(\n",
    "    \"###########################################################################\\n\"\n",
    "    f\"Ground state energy approximation: {min_e}\\n\"\n",
    "    \"###########################################################################\"\n",
    ")"
   ]
  },
  {
   "cell_type": "markdown",
   "id": "fa569837-2649-4947-bd88-8f4c6acf2edd",
   "metadata": {},
   "source": [
    "The exact ground state energy is -109.10288938."
   ]
  },
  {
   "cell_type": "code",
   "execution_count": null,
   "id": "d3821d89-cc98-414b-a028-807687b7f1c8",
   "metadata": {},
   "outputs": [],
   "source": [
    "n2_exact = -109.10288938\n",
    "delta = min_e - n2_exact\n",
    "print(\"Delta of part 1 is \", delta)"
   ]
  },
  {
   "cell_type": "markdown",
   "id": "9d78906b-4759-4506-9c69-85d4e67766b3",
   "metadata": {},
   "source": [
    "### Visualize the results\n",
    "\n",
    "The first plot shows how far our approximations are from chemical accuracy (typically accepted to be ``1 kcal/mol`` $\\approx$ ``1.6 mH``).\n",
    "\n",
    "The second plot shows the average occupancy of each spatial orbital after the final iteration. We can see that both the spin-up and spin-down electrons occupy the first five orbitals with high probability in our solutions."
   ]
  },
  {
   "cell_type": "code",
   "execution_count": null,
   "id": "caffd888-e89c-4aa9-8bae-4d1bb723b35e",
   "metadata": {},
   "outputs": [],
   "source": [
    "import matplotlib.pyplot as plt\n",
    "\n",
    "# Data for energies plot\n",
    "n2_exact = -109.10288938\n",
    "x1 = range(iterations)\n",
    "e_diff = [abs(np.min(energies) - n2_exact) for energies in energy_hist]\n",
    "yt1 = [1.0, 1e-1, 1e-2, 1e-3, 1e-4]\n",
    "\n",
    "# Chemical accuracy (+/- 1 milli-Hartree)\n",
    "chem_accuracy = 0.001\n",
    "\n",
    "# Data for avg spatial orbital occupancy\n",
    "y2 = occupancy_hist[-1][0] + occupancy_hist[-1][1]\n",
    "x2 = range(len(y2))\n",
    "\n",
    "fig, axs = plt.subplots(1, 2, figsize=(12, 6))\n",
    "\n",
    "# Plot energies\n",
    "axs[0].plot(x1, e_diff, label=\"energy error\", marker=\"o\")\n",
    "axs[0].set_xticks(x1)\n",
    "axs[0].set_xticklabels(x1)\n",
    "axs[0].set_yticks(yt1)\n",
    "axs[0].set_yticklabels(yt1)\n",
    "axs[0].set_yscale(\"log\")\n",
    "axs[0].set_ylim(1e-4)\n",
    "axs[0].axhline(\n",
    "    y=chem_accuracy, color=\"#BF5700\", linestyle=\"--\", label=\"chemical accuracy\"\n",
    ")\n",
    "axs[0].set_title(\"Approximated Ground State Energy Error vs SQD Iterations\")\n",
    "axs[0].set_xlabel(\"Iteration Index\", fontdict={\"fontsize\": 12})\n",
    "axs[0].set_ylabel(\"Energy Error (Ha)\", fontdict={\"fontsize\": 12})\n",
    "axs[0].legend()\n",
    "\n",
    "# Plot orbital occupancy\n",
    "axs[1].bar(x2, y2, width=0.8)\n",
    "axs[1].set_xticks(x2)\n",
    "axs[1].set_xticklabels(x2)\n",
    "axs[1].set_title(\"Avg Occupancy per Spatial Orbital\")\n",
    "axs[1].set_xlabel(\"Orbital Index\", fontdict={\"fontsize\": 12})\n",
    "axs[1].set_ylabel(\"Avg Occupancy\", fontdict={\"fontsize\": 12})\n",
    "\n",
    "plt.tight_layout()\n",
    "plt.show()"
   ]
  },
  {
   "cell_type": "markdown",
   "id": "c5503a47-f726-43c7-a690-1bcdd53805bf",
   "metadata": {},
   "source": [
    "## Part 2: Challenge - Refining the Ground State Energy Estimation\n",
    "\n",
    "Congratulations on completing Part 1! You now have hands-on experience with Sample-Based Quantum Diagonalization (SQD) and have used a quantum circuit to approximate the ground state energy of a molecule.\n",
    "\n",
    "In **Part 2**, you’ll take on a challenge to improve the accuracy of the energy estimation. While our initial setup in Part 1 provided a baseline approximation, here, you’ll explore how different parameter choices impact performance.\n",
    "\n"
   ]
  },
  {
   "cell_type": "markdown",
   "id": "7860032a-d532-4958-8304-0cdf83615f32",
   "metadata": {},
   "source": [
    "<a id=\"exercise_1\"></a>\n",
    "<div class=\"alert alert-block alert-success\">\n",
    "    \n",
    "<b>Exercise 2: Refining the Ground State Energy Estimation</b> \n",
    "\n",
    "In the tutorial example, we used small subspaces and limited the number of batches to 5 per iteration to get an initial approximation of the molecule's ground state energy. However, there’s significant room for improvement in accuracy. Your task in **Part 2** is to enhance the energy estimation by experimenting with two key parameters:\n",
    "\n",
    "- **Subspace Size** (`samples_per_batch`): Adjust the number of samples per batch to define the subspace size used for Hamiltonian projection and diagonalization. Increasing this value can improve accuracy but may increase computational load.\n",
    "- **Number of Batches** (`num_batches`): Change the number of batches to find a balance between computational efficiency and result precision at each iteration.\n",
    "\n",
    "Using these parameters strategically, aim to bring the estimated ground state energy as close as possible to the true value. Test different combinations to minimize the error, taking into account the effect of noise and hardware constraints.\n",
    "\n",
    "Good luck, and let’s see how close you can get to the true ground state energy!\n",
    "\n",
    "</div>\n",
    "\n"
   ]
  },
  {
   "cell_type": "markdown",
   "id": "7131636b-c137-4292-a065-2f1346c881c5",
   "metadata": {},
   "source": [
    "<div class=\"alert alert-block alert-info\"> \n",
    "    \n",
    "⚠️ **Please Note:**\n",
    "This notebook is structured so that **Part 2: Challenge** can be run independently of **Part 1: Tutorial**. If you’d like, you can skip directly to this section and adjust the parameters without needing to re-run the entire notebook.\n",
    "</div>\n"
   ]
  },
  {
   "cell_type": "markdown",
   "id": "cc2ceb20-5ad5-45c4-a20a-61cf7295e8da",
   "metadata": {},
   "source": [
    "First, we will define a function which performs the same loop as shown above and takes in the ``num_batches`` and ``samples_per_batch`` arguments as inputs."
   ]
  },
  {
   "cell_type": "code",
   "execution_count": null,
   "id": "ebab1079-bbbe-4e8a-9666-9ceeda6dee93",
   "metadata": {},
   "outputs": [],
   "source": [
    "import numpy as np\n",
    "import matplotlib.pyplot as plt\n",
    "#from pyscf import tools, ao2mo\n",
    "\n",
    "from qiskit_addon_sqd.counts import counts_to_arrays\n",
    "from qiskit_addon_sqd.subsampling import postselect_and_subsample\n",
    "from qiskit_addon_sqd.fermion import solve_fermion\n",
    "from qiskit_addon_sqd.configuration_recovery import recover_configurations\n",
    "\n",
    "def sqd_configuration_recovery(n_batches: int, samples_per_batch: int) -> float:\n",
    "    \"\"\"Perform SQD on N2 molecule, given some subspace parameters.\"\"\"\n",
    "    iterations = 5\n",
    "    num_orbitals = 16\n",
    "    num_elec_a = num_elec_b = 5\n",
    "    rand_seed = 42\n",
    "\n",
    "    counts = np.load(\"utils/N2_device_counts.npy\", allow_pickle=True).item()\n",
    "    # Convert counts into bitstring and probability arrays\n",
    "    bitstring_matrix, probabilities = counts_to_arrays(counts)\n",
    "\n",
    "    # Read in molecule from disk\n",
    "    # mf_as = tools.fcidump.to_scf(\"utils/n2_fci.txt\")\n",
    "    # hcore = mf_as.get_hcore()\n",
    "    # eri = ao2mo.restore(1, mf_as._eri, num_orbitals)\n",
    "    # nuclear_repulsion_energy = mf_as.mol.energy_nuc()\n",
    "\n",
    "    # Load values if not using pyscf\n",
    "    hcore = np.load(\"utils/hcore.npy\")\n",
    "    eri = np.load(\"utils/eri.npy\")\n",
    "    with open(\"utils/nuclear_repulsion_energy.pkl\", \"rb\") as f:\n",
    "        nre = pickle.load(f)\n",
    "\n",
    "    # Self-consistent configuration recovery loop\n",
    "    energy_hist = np.zeros((iterations, n_batches))  # energy history\n",
    "    occupancy_hist = []\n",
    "    avg_occupancy = None  # orbital i corresponds to column i in bitstring matrix\n",
    "    for i in range(iterations):\n",
    "        print(f\"Starting configuration recovery iteration {i}\")\n",
    "        # On the first iteration, we have no orbital occupancy information from the\n",
    "        # solver, so we just post-select from the full bitstring set based on hamming weight.\n",
    "        if avg_occupancy is None:\n",
    "            bitstring_matrix_tmp = bitstring_matrix_full\n",
    "            probs_arr_tmp = probs_arr_full\n",
    "\n",
    "        # If we have average orbital occupancy information, we use it to refine the full set of noisy configurations\n",
    "        else:\n",
    "            bitstring_matrix_tmp, probs_arr_tmp = recover_configurations(\n",
    "                bitstring_matrix_full, \n",
    "                probs_arr_full, \n",
    "                avg_occupancy,\n",
    "                num_elec_a,\n",
    "                num_elec_b,\n",
    "                rand_seed=rand_seed,\n",
    "            )\n",
    "\n",
    "        # Throw out configurations with incorrect particle number in either the spin-up or spin-down systems\n",
    "        batches = postselect_and_subsample(\n",
    "            bitstring_matrix_tmp,\n",
    "            probs_arr_tmp,\n",
    "            hamming_right=num_elec_a,\n",
    "            hamming_left=num_elec_b,\n",
    "            samples_per_batch=samples_per_batch,\n",
    "            num_batches=n_batches,\n",
    "            rand_seed=rand_seed,\n",
    "        )\n",
    "\n",
    "        # Run eigenstate solvers in a loop. This loop should be parallelized for larger problems.\n",
    "        energy_tmp = np.zeros(n_batches)\n",
    "        occs_tmp = [] \n",
    "        for j in range(n_batches):\n",
    "            energy_sci, coeffs_sci, avg_occs, spin = solve_fermion(\n",
    "                batches[j],\n",
    "                hcore,\n",
    "                eri,\n",
    "                open_shell=open_shell,\n",
    "                spin_sq=spin_sq,\n",
    "                max_davidson=max_davidson_cycles,\n",
    "            )\n",
    "            energy_sci += nre\n",
    "            energy_tmp[j] = energy_sci\n",
    "            occs_tmp.append(avg_occs)\n",
    "\n",
    "        # Combine batch results\n",
    "        avg_occupancy = tuple(np.mean(occs_tmp, axis=0))\n",
    "\n",
    "        # Track optimization history\n",
    "        energy_hist[i, :] = energy_tmp\n",
    "        occupancy_hist.append(avg_occupancy)\n",
    "\n",
    "    return energy_hist\n",
    "\n",
    "\n",
    "def visualize_sqd_results(energy_hist):\n",
    "    # Hard code some values\n",
    "    n2_exact = -109.10288938\n",
    "    iterations = 5\n",
    "    num_orbitals = 16\n",
    "\n",
    "    x1 = range(iterations)\n",
    "    e_diff = [abs(np.min(energies) - n2_exact) for energies in energy_hist]\n",
    "    yt1 = [1.0, 1e-1, 1e-2, 1e-3, 1e-4]\n",
    "\n",
    "    # Chemical accuracy (+/- 1 milli-Hartree)\n",
    "    chem_accuracy = 0.001\n",
    "\n",
    "    fig, axs = plt.subplots(1, 1, figsize=(6, 6))\n",
    "\n",
    "    # Plot energies\n",
    "    axs.plot(x1, e_diff, label=\"energy error\", marker=\"o\")\n",
    "    axs.set_xticks(x1)\n",
    "    axs.set_xticklabels(x1)\n",
    "    axs.set_yticks(yt1)\n",
    "    axs.set_yticklabels(yt1)\n",
    "    axs.set_yscale(\"log\")\n",
    "    axs.set_ylim(1e-4)\n",
    "    axs.axhline(\n",
    "        y=chem_accuracy, color=\"#BF5700\", linestyle=\"--\", label=\"chemical accuracy\"\n",
    "    )\n",
    "    axs.set_title(\"Approximated Ground State Energy Error vs SQD Iterations\")\n",
    "    axs.set_xlabel(\"Iteration Index\", fontdict={\"fontsize\": 12})\n",
    "    axs.set_ylabel(\"Energy Error (Ha)\", fontdict={\"fontsize\": 12})\n",
    "    axs.legend()\n",
    "\n",
    "    plt.tight_layout()\n",
    "    return plt"
   ]
  },
  {
   "cell_type": "code",
   "execution_count": null,
   "id": "3c501fcb-1d12-4982-98cb-8c55d3cb2418",
   "metadata": {},
   "outputs": [],
   "source": [
    "########## Modify these values ##########\n",
    "\n",
    "num_batches = ###\n",
    "samples_per_batch = ###"
   ]
  },
  {
   "cell_type": "code",
   "execution_count": null,
   "id": "e3892e7f-be93-4a6a-906e-87169cc3f438",
   "metadata": {},
   "outputs": [],
   "source": [
    "num_orbitals = 16\n",
    "\n",
    "counts = np.load(\"utils/N2_device_counts.npy\", allow_pickle=True).item()\n",
    "# Convert counts into bitstring and probability arrays\n",
    "bitstring_matrix_full, probs_arr_full = counts_to_arrays(counts)\n",
    "\n",
    "energy_hist = sqd_configuration_recovery(num_batches, samples_per_batch)\n",
    "min_e_p2 = np.min(energy_hist)\n",
    "print(\n",
    "    \"###########################################################################\\n\"\n",
    "    f\"Ground state energy approximation (report this value): {min_e}\\n\"\n",
    "    \"###########################################################################\"\n",
    ")\n",
    "plt = visualize_sqd_results(energy_hist)\n",
    "plt.show()"
   ]
  },
  {
   "cell_type": "markdown",
   "id": "b3b0aec5-e1f0-4ad4-8d7c-63ba91dc35ae",
   "metadata": {},
   "source": [
    "The exact ground state energy is `-109.10288938`. Was your result be better than the results of the tutorial?"
   ]
  },
  {
   "cell_type": "code",
   "execution_count": null,
   "id": "9856318f-7ac9-4b52-ae66-d851749fb007",
   "metadata": {},
   "outputs": [],
   "source": [
    "delta_p2 = min_e_p2 - n2_exact\n",
    "print(\"Delta of part 1 is\", delta)\n",
    "print(\"your delta is \", delta_p2)"
   ]
  },
  {
   "cell_type": "markdown",
   "id": "a1cf523f-430b-4300-b7c8-7904c7318f45",
   "metadata": {},
   "source": [
    "## Part 3: Bonus - Real hardware execution\n",
    "\n",
    "Finally, we will run it on the real hardware with our best parameters. "
   ]
  },
  {
   "cell_type": "code",
   "execution_count": null,
   "id": "596ff008-e775-4a07-8ee9-df6b7e4736f6",
   "metadata": {},
   "outputs": [],
   "source": [
    "from qiskit_ibm_runtime import QiskitRuntimeService\n",
    "\n",
    "service = QiskitRuntimeService(\n",
    "    channel='ibm_quantum',\n",
    "    # instance='ibm-q/open/main',\n",
    "    instance='utokyo-kawasaki/internal/qc2025s',\n",
    "    token='<IBM Quantum API key>'\n",
    ")\n",
    "\n",
    "# Or save your credentials on disk.\n",
    "# QiskitRuntimeService.save_account(channel='ibm_quantum', instance='ibm-q/open/main', token='<IBM Quantum API key>')\n",
    "backend = service.backend('ibm_kawasaki')\n",
    "# backend = service.backend('ibm_brisbane')\n",
    "# backend = service.backend('ibm_sherbrooke')"
   ]
  },
  {
   "cell_type": "code",
   "execution_count": null,
   "id": "8612676b-37bd-4b7e-b28d-89eb27296790",
   "metadata": {},
   "outputs": [],
   "source": [
    "from pyscf import ao2mo, tools\n",
    "from pyscf import cc\n",
    "mf_as = tools.fcidump.to_scf(\"utils/n2_fci.txt\")\n",
    "mf_as.kernel()\n",
    "mc = cc.CCSD(mf_as)\n",
    "mc.kernel()\n",
    "t1 = mc.t1\n",
    "t2 = mc.t2"
   ]
  },
  {
   "cell_type": "code",
   "execution_count": null,
   "id": "580c6fb9-c603-4da8-adb6-afc07b31dfcd",
   "metadata": {},
   "outputs": [],
   "source": [
    "import ffsim\n",
    "from qiskit import QuantumCircuit, QuantumRegister\n",
    "\n",
    "n_reps = 1\n",
    "alpha_alpha_indices = [(p, p + 1) for p in range(num_orbitals - 1)]\n",
    "alpha_beta_indices = [(p, p) for p in range(0, num_orbitals, 4)]\n",
    "\n",
    "ucj_op = ffsim.UCJOpSpinBalanced.from_t_amplitudes(\n",
    "    t2=t2,\n",
    "    t1=t1,\n",
    "    n_reps=n_reps,\n",
    "    interaction_pairs=(alpha_alpha_indices, alpha_beta_indices),\n",
    ")\n",
    "\n",
    "nelec = (num_elec_a, num_elec_b)\n",
    "\n",
    "# create an empty quantum circuit\n",
    "qubits = QuantumRegister(2 * num_orbitals, name=\"q\")\n",
    "circuit = QuantumCircuit(qubits)\n",
    "\n",
    "# prepare Hartree-Fock state as the reference state and append it to the quantum circuit\n",
    "circuit.append(ffsim.qiskit.PrepareHartreeFockJW(num_orbitals, nelec), qubits)\n",
    "\n",
    "# apply the UCJ operator to the reference state\n",
    "circuit.append(ffsim.qiskit.UCJOpSpinBalancedJW(ucj_op), qubits)\n",
    "circuit.measure_all()\n",
    "\n",
    "circuit.decompose().decompose().draw(\"mpl\", fold =-1)"
   ]
  },
  {
   "cell_type": "code",
   "execution_count": null,
   "id": "36d6aeaa-57af-4fc0-aa5e-304d842eed90",
   "metadata": {},
   "outputs": [],
   "source": [
    "from qiskit.transpiler.preset_passmanagers import generate_preset_pass_manager\n",
    "\n",
    "spin_a_layout = [0, 14, 18, 19, 20, 33, 39, 40, 41, 53, 60, 61, 62, 72, 81, 82]\n",
    "spin_b_layout = [2, 3, 4, 15, 22, 23, 24, 34, 43, 44, 45, 54, 64, 65, 66, 73]\n",
    "initial_layout = spin_a_layout + spin_b_layout\n",
    "\n",
    "pass_manager = generate_preset_pass_manager(\n",
    "    optimization_level=3, backend=backend, initial_layout=initial_layout\n",
    ")\n",
    "\n",
    "# We will use the circuit generated by this pass manager for hardware execution\n",
    "pass_manager.pre_init = ffsim.qiskit.PRE_INIT\n",
    "isa_circuit = pass_manager.run(circuit)\n",
    "print(f\"Gate counts (w/ pre-init passes): {isa_circuit.count_ops()}\")"
   ]
  },
  {
   "cell_type": "code",
   "execution_count": null,
   "id": "2f6236c8-2202-483b-af3d-ae61c715b667",
   "metadata": {},
   "outputs": [],
   "source": [
    "from qiskit_ibm_runtime import SamplerV2 as Sampler\n",
    "sampler = Sampler(mode=backend)\n",
    "job = sampler.run([isa_circuit], shots=100_000)\n",
    "print(\"job id:\", job.job_id())\n",
    "job.status()"
   ]
  },
  {
   "cell_type": "code",
   "execution_count": null,
   "id": "d7e46ca2-f60e-4884-85bc-c98257417ada",
   "metadata": {},
   "outputs": [],
   "source": [
    "from qiskit_ibm_runtime import QiskitRuntimeService\n",
    "\n",
    "service = QiskitRuntimeService()\n",
    "job = service.job('### input your job id ###')"
   ]
  },
  {
   "cell_type": "code",
   "execution_count": null,
   "id": "88ed99fa-6c3c-4a11-87e0-5b896860862a",
   "metadata": {},
   "outputs": [],
   "source": [
    "job.status()"
   ]
  },
  {
   "cell_type": "code",
   "execution_count": null,
   "id": "a0e9c349-ce32-4519-a5e6-eb0bc9658777",
   "metadata": {},
   "outputs": [],
   "source": [
    "bitstring_matrix_full, probs_arr_full = counts_to_arrays(counts)\n",
    "\n",
    "energy_hist = sqd_configuration_recovery(num_batches, samples_per_batch)\n",
    "min_e_bonus = np.min(energy_hist)\n",
    "print(\n",
    "    \"###########################################################################\\n\"\n",
    "    f\"Ground state energy approximation (report this value): {min_e}\\n\"\n",
    "    \"###########################################################################\"\n",
    ")\n",
    "plt = visualize_sqd_results(energy_hist)\n",
    "plt.show()"
   ]
  },
  {
   "cell_type": "code",
   "execution_count": null,
   "id": "12dd8e7e-c143-4195-86f4-3c8cdf789847",
   "metadata": {},
   "outputs": [],
   "source": [
    "delta_bonus = min_e_bonus - n2_exact\n",
    "print(\"Delta of part 1 is\", delta)\n",
    "print(\"your delta is \", delta_p2)"
   ]
  },
  {
   "cell_type": "markdown",
   "id": "36a799ce-c83e-4928-8b55-62cf466fbbdc",
   "metadata": {},
   "source": [
    "# Additional information\n",
    "\n",
    "**Modified for UTokyo spring lecture seiese by:** Kifumi Numata\n",
    "\n",
    "**Created by:** Alejandra Perea Rojas, Bryce Fuller, Caleb Johnson, Javier Robledo Moreno, Jennifer Glick, Jim Garrison, Sanket Panda, Junye Huang, Max Rossmannek, Vishal Sharathchandra Bajpe\n",
    "\n",
    "**Advised by:** Abby Mitchell, Blake Johnson, Henry Zou, Tushar Mittal, Vincent Pascuzzi\n"
   ]
  }
 ],
 "metadata": {
  "kernelspec": {
   "display_name": "Python 3 (ipykernel)",
   "language": "python",
   "name": "python3"
  },
  "language_info": {
   "codemirror_mode": {
    "name": "ipython",
    "version": 3
   },
   "file_extension": ".py",
   "mimetype": "text/x-python",
   "name": "python",
   "nbconvert_exporter": "python",
   "pygments_lexer": "ipython3",
   "version": "3.12.3"
  }
 },
 "nbformat": 4,
 "nbformat_minor": 5
}
