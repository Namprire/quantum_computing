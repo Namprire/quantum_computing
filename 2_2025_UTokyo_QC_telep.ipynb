{
 "cells": [
  {
   "attachments": {},
   "cell_type": "markdown",
   "metadata": {},
   "source": [
    "The University of Tokyo  \n",
    "Special Lectures in Information Science Ⅱ  \n",
    "Introduction to Near-Term Quantum Computing  \n",
    "# 2. Quantum Teleportation\n",
    "\n",
    "Kifumi Numata (Apr 18, 2025)\n",
    "\n",
    "### Table of Contents\n",
    "- 2.1 Signle-qubit quantum gates    \n",
    "- Exercise 1 - Build quantum circuits\n",
    "- 2.2 Multi-qubit quantum gates    \n",
    "- 2.3 Run on a real quantum device by following Qiskit Patterns    \n",
    "- 2.4 Quantum State Tomography    \n",
    "- Exercise 2 - Estimate $r_x$ and $r_y$ value\n",
    "- 2.5 Quantum Teleportation\n",
    "- Exercise 3 - Build a teleportation circuit"
   ]
  },
  {
   "cell_type": "markdown",
   "metadata": {},
   "source": [
    "You can run the cell by \"Shift\" + \"Enter\"."
   ]
  },
  {
   "cell_type": "code",
   "execution_count": null,
   "metadata": {},
   "outputs": [],
   "source": [
    "# Required packages for Google Colab\n",
    "#%pip install qiskit[visualization]\n",
    "#%pip install qiskit-aer\n",
    "#%pip install qiskit-ibm-runtime"
   ]
  },
  {
   "cell_type": "code",
   "execution_count": null,
   "metadata": {},
   "outputs": [],
   "source": [
    "# See the version of Qiskit\n",
    "import qiskit\n",
    "qiskit.__version__"
   ]
  },
  {
   "cell_type": "code",
   "execution_count": null,
   "metadata": {
    "scrolled": true,
    "tags": []
   },
   "outputs": [],
   "source": [
    "# Import the qiskit libraty\n",
    "from qiskit import QuantumCircuit\n",
    "from qiskit_aer import StatevectorSimulator, AerSimulator\n",
    "from qiskit.visualization import plot_bloch_multivector, plot_histogram, plot_gate_map, plot_bloch_vector\n",
    "from qiskit_ibm_runtime import Sampler\n",
    "from qiskit.transpiler.preset_passmanagers import generate_preset_pass_manager\n",
    "from qiskit_ibm_runtime import QiskitRuntimeService\n",
    "from qiskit.result import marginal_counts"
   ]
  },
  {
   "cell_type": "markdown",
   "metadata": {},
   "source": [
    "## 2.1 Single-qubit quantum gates"
   ]
  },
  {
   "cell_type": "markdown",
   "metadata": {},
   "source": [
    "### Preparing the quantum circuit"
   ]
  },
  {
   "cell_type": "code",
   "execution_count": null,
   "metadata": {
    "scrolled": true,
    "tags": []
   },
   "outputs": [],
   "source": [
    "# Create the single-qubit quantum circuit\n",
    "qc = QuantumCircuit(1)\n",
    "\n",
    "# Draw the circuit\n",
    "qc.draw(output=\"mpl\")"
   ]
  },
  {
   "cell_type": "markdown",
   "metadata": {},
   "source": [
    "### X gate"
   ]
  },
  {
   "cell_type": "code",
   "execution_count": null,
   "metadata": {
    "scrolled": true,
    "tags": []
   },
   "outputs": [],
   "source": [
    "qc = QuantumCircuit(1)    # Prepare the single-qubit quantum circuit\n",
    "\n",
    "# Apply a X gate to qubit 0\n",
    "qc.x(0)\n",
    "\n",
    "# Draw the circuit\n",
    "qc.draw(output=\"mpl\")"
   ]
  },
  {
   "cell_type": "markdown",
   "metadata": {},
   "source": [
    "In IBM Quantum, the initial state is set to $|0\\rangle$, so the quantum circuit above in matrix representation is\n",
    "\n",
    "$X|0\\rangle=  \\begin{pmatrix}\n",
    "0 & 1 \\\\\\\n",
    "1 & 0\n",
    "\\end{pmatrix} \n",
    "\\begin{pmatrix}\n",
    "1 \\\\\\\n",
    "0\n",
    "\\end{pmatrix} \n",
    " =\\begin{pmatrix}\n",
    "0 \\\\\\\n",
    "1\n",
    "\\end{pmatrix} = |1\\rangle$ \n",
    "\n",
    "Next, let's run this circuit using a state vector simulator."
   ]
  },
  {
   "cell_type": "code",
   "execution_count": null,
   "metadata": {},
   "outputs": [],
   "source": [
    "# Run the statevector simulator \n",
    "backend = StatevectorSimulator()\n",
    "result = backend.run(qc).result().get_statevector(qc, decimals=3)\n",
    "print(result)\n",
    "\n",
    "# Draw a Bloch sphere\n",
    "plot_bloch_multivector(result)"
   ]
  },
  {
   "cell_type": "markdown",
   "metadata": {},
   "source": [
    "Vertical vector is displayed as row vector, with complex numbers (the imaginary part is indexed by j ).\n",
    "\n",
    "### H gate"
   ]
  },
  {
   "cell_type": "code",
   "execution_count": null,
   "metadata": {
    "scrolled": true,
    "tags": []
   },
   "outputs": [],
   "source": [
    "qc = QuantumCircuit(1)    # Create the single-qubit quantum circuit\n",
    "\n",
    "# Apply an Hadamard gate to qubit 0\n",
    "qc.h(0)\n",
    "\n",
    "# Draw the circuit\n",
    "qc.draw(output=\"mpl\")"
   ]
  },
  {
   "cell_type": "code",
   "execution_count": null,
   "metadata": {
    "scrolled": true,
    "tags": []
   },
   "outputs": [],
   "source": [
    "# Run the statevector simulator \n",
    "backend = StatevectorSimulator()\n",
    "result = backend.run(qc).result().get_statevector(qc, decimals=3)\n",
    "print(result)\n",
    "\n",
    "# Draw a Bloch sphere\n",
    "plot_bloch_multivector(result)"
   ]
  },
  {
   "cell_type": "markdown",
   "metadata": {},
   "source": [
    "This is $H|0\\rangle= \\frac{1}{\\sqrt{2}} \\begin{pmatrix}\n",
    "1 & 1 \\\\\\\n",
    "1 & -1\n",
    "\\end{pmatrix} \n",
    "\\begin{pmatrix}\n",
    "1 \\\\\\\n",
    "0\n",
    "\\end{pmatrix} \n",
    " =\\frac{1}{\\sqrt{2}}\\begin{pmatrix}\n",
    "1 \\\\\\\n",
    "1\n",
    "\\end{pmatrix} \n",
    "=\\begin{pmatrix}\n",
    "0.707 \\\\\\\n",
    "0.707\n",
    "\\end{pmatrix} \n",
    "=\\frac{1}{\\sqrt{2}}(|0\\rangle+|1\\rangle) = |+\\rangle $.\n",
    "\n",
    "\n",
    "\n",
    "\n",
    "By applying the $H$ gate on the $|0\\rangle$, we can create a superposition of $|0\\rangle$ and $|1\\rangle$ where measurement would give you each state with equal probabilities."
   ]
  },
  {
   "cell_type": "markdown",
   "metadata": {},
   "source": [
    "### $|-\\rangle$ state"
   ]
  },
  {
   "cell_type": "code",
   "execution_count": null,
   "metadata": {
    "scrolled": true,
    "tags": []
   },
   "outputs": [],
   "source": [
    "qc = QuantumCircuit(1)    # Create the single-qubit quantum circuit\n",
    "\n",
    "# Apply a X gate to qubit 0\n",
    "qc.x(0)\n",
    "\n",
    "# Apply an Hadamard gate to qubit 0\n",
    "qc.h(0)\n",
    "\n",
    "# draw the circuit\n",
    "qc.draw(output=\"mpl\")"
   ]
  },
  {
   "cell_type": "code",
   "execution_count": null,
   "metadata": {
    "scrolled": true,
    "tags": []
   },
   "outputs": [],
   "source": [
    "# Run the statevector simulator \n",
    "backend = StatevectorSimulator()\n",
    "result = backend.run(qc).result().get_statevector(qc, decimals=3)\n",
    "print(result)\n",
    "\n",
    "# Draw a Bloch sphere\n",
    "plot_bloch_multivector(result)"
   ]
  },
  {
   "cell_type": "markdown",
   "metadata": {},
   "source": [
    "This is \n",
    "\n",
    "$H|1\\rangle= \\frac{1}{\\sqrt{2}} \\begin{pmatrix}\n",
    "1 & 1 \\\\\\\n",
    "1 & -1\n",
    "\\end{pmatrix} \n",
    "\\begin{pmatrix}\n",
    "0 \\\\\\\n",
    "1\n",
    "\\end{pmatrix} \n",
    " =\\frac{1}{\\sqrt{2}}\\begin{pmatrix}\n",
    "1 \\\\\\\n",
    "-1\n",
    "\\end{pmatrix} \n",
    "=\\begin{pmatrix}\n",
    "0.707 \\\\\\\n",
    "-0.707\n",
    "\\end{pmatrix} \n",
    "=\\frac{1}{\\sqrt{2}}(|0\\rangle-|1\\rangle) = |-\\rangle$\n",
    "\n",
    "\n",
    "\n",
    "Applying the $H$ gate on $|1\\rangle$ results in an equal superposition of $|0\\rangle$ and $|1\\rangle$, but the sign of $|1\\rangle$ is negative."
   ]
  },
  {
   "cell_type": "markdown",
   "metadata": {},
   "source": [
    "## Exercise 1\n",
    "\n",
    "Code the following quantum circuit and run it by the state vector simulator to display the Bloch sphere.\n",
    "\n",
    "(1) $XX|0\\rangle$\n",
    "\n",
    "(2) $HH|0\\rangle$  \n",
    "\n",
    "(3) $HZH|0\\rangle$\n",
    "\n",
    "Tips: Z gate can be used by;\n",
    "\n",
    "    qc.z(0)\n",
    "    \n",
    "To add a new cell, select the \"+\" at the top or press \"B\" on the keyboard."
   ]
  },
  {
   "cell_type": "code",
   "execution_count": null,
   "metadata": {
    "tags": []
   },
   "outputs": [],
   "source": [
    "### (1) XX|0> ###\n",
    "\n",
    "# Create the single-qubit quantum circuit\n",
    "qc = ##your code goes here##\n",
    "\n",
    "# Add a X gate to qubit 0\n",
    "qc. ##your code goes here##\n",
    "\n",
    "# Add a X gate to qubit 0\n",
    "qc. ##your code goes here##\n",
    "\n",
    "# Draw a circuit\n",
    "qc.draw(output=\"mpl\")"
   ]
  },
  {
   "cell_type": "code",
   "execution_count": null,
   "metadata": {
    "tags": []
   },
   "outputs": [],
   "source": [
    "# Run the statevector simulator \n",
    "backend = StatevectorSimulator()\n",
    "result = backend.run(qc).result().get_statevector(qc, decimals=3)\n",
    "print(result)\n",
    "\n",
    "# Draw a Bloch sphere\n",
    "plot_bloch_multivector(result)"
   ]
  },
  {
   "cell_type": "code",
   "execution_count": null,
   "metadata": {
    "tags": []
   },
   "outputs": [],
   "source": [
    "### (2) HH|0> ###\n",
    "##your code goes here##\n",
    "\n",
    "\n",
    "\n"
   ]
  },
  {
   "cell_type": "code",
   "execution_count": null,
   "metadata": {
    "tags": []
   },
   "outputs": [],
   "source": [
    "# Run the statevector simulator \n",
    "backend = StatevectorSimulator()\n",
    "result = backend.run(qc).result().get_statevector(qc, decimals=3)\n",
    "print(result)\n",
    "\n",
    "# Draw a Bloch sphere\n",
    "plot_bloch_multivector(result)"
   ]
  },
  {
   "cell_type": "code",
   "execution_count": null,
   "metadata": {
    "tags": []
   },
   "outputs": [],
   "source": [
    "### (3) HZH|0> ###\n",
    "##your code goes here##\n",
    "\n",
    "\n",
    "\n"
   ]
  },
  {
   "cell_type": "code",
   "execution_count": null,
   "metadata": {
    "tags": []
   },
   "outputs": [],
   "source": [
    "# Run the statevector simulator \n",
    "backend = StatevectorSimulator()\n",
    "result = backend.run(qc).result().get_statevector(qc, decimals=3)\n",
    "print(result)\n",
    "\n",
    "# Draw a Bloch sphere\n",
    "plot_bloch_multivector(result)"
   ]
  },
  {
   "cell_type": "markdown",
   "metadata": {},
   "source": [
    "## 2.2 Multi-qubit quantum gates\n",
    "We can create a two-qubit quantum circuit with following code. We will apply an H gate to each qubit."
   ]
  },
  {
   "cell_type": "code",
   "execution_count": null,
   "metadata": {
    "scrolled": true,
    "tags": []
   },
   "outputs": [],
   "source": [
    "# Create the two qubits quantum circuit\n",
    "qc = QuantumCircuit(2)\n",
    "\n",
    "# Apply an H gate to qubit 0\n",
    "qc.h(0)\n",
    "\n",
    "# Apply an H gate to qubit 1\n",
    "qc.h(1)\n",
    "\n",
    "# Draw the circuit\n",
    "qc.draw(output=\"mpl\")"
   ]
  },
  {
   "cell_type": "code",
   "execution_count": null,
   "metadata": {},
   "outputs": [],
   "source": [
    "# Run the statevector simulator \n",
    "backend = StatevectorSimulator()\n",
    "result = backend.run(qc).result().get_statevector(qc, decimals=3)\n",
    "print(result)"
   ]
  },
  {
   "cell_type": "markdown",
   "metadata": {},
   "source": [
    "The quantum state of the above circuit can be written as a tensor product of single-qubit quantum state.\n",
    "\n",
    "$|q0\\rangle \\otimes|q1\\rangle = (a|0\\rangle+b|1\\rangle) \\otimes (c|0\\rangle+d|1\\rangle) $\n",
    "\n",
    "$= ac|0\\rangle|0\\rangle+ad|0\\rangle|1\\rangle+bc|1\\rangle|0\\rangle+bd|1\\rangle|1\\rangle$\n",
    "\n",
    "$= ac|00\\rangle+ad|01\\rangle+bc|10\\rangle+bd|11\\rangle$\n",
    "\n",
    "($|ac|^2+ |ad|^2+ |bc|^2+ |bd|^2=1$ )\n",
    "\n",
    "\n",
    "The initinal state of Qiskit is $|0\\rangle|0\\rangle=|00\\rangle$, so by applying $H$ to each qubit, it changes to a state of equal superposition.\n",
    "\n",
    "$H|0\\rangle \\otimes H|0\\rangle=\\frac{1}{\\sqrt{2}}(|0\\rangle+|1\\rangle) \\otimes \\frac{1}{\\sqrt{2}}(|0\\rangle+|1\\rangle) = \\frac{1}{2}(|00\\rangle+|01\\rangle+|10\\rangle+|11\\rangle)$\n",
    "\n",
    "$$ \n",
    "=\\frac{1}{2}\\left( \\begin{bmatrix} 1 \\\\ 1 \\end{bmatrix} \\otimes \\begin{bmatrix} 1 \\\\ 1 \\end{bmatrix}\\right) = \\frac{1}{2}\\begin{bmatrix} 1 \\\\ 1 \\\\ 1 \\\\ 1 \\end{bmatrix}=\\frac{1}{2}\\left(\\begin{bmatrix} 1 \\\\ 0 \\\\ 0 \\\\ 0 \\end{bmatrix}+\\begin{bmatrix} 0 \\\\ 1 \\\\ 0 \\\\ 0 \\end{bmatrix}+\\begin{bmatrix} 0 \\\\ 0 \\\\ 1 \\\\ 0 \\end{bmatrix}+\\begin{bmatrix} 0 \\\\ 0 \\\\ 0 \\\\ 1 \\end{bmatrix}\\right)\n",
    "$$\n"
   ]
  },
  {
   "cell_type": "markdown",
   "metadata": {},
   "source": [
    "### Qiskit bit ordering\n",
    "\n",
    "Qiskit uses **Little Endian** notations for qubits and bits ordering, meaning **qubit 0 is the rightmost bit** in the bitstrings. Example: $|01\\rangle$ means q0 is $|1\\rangle$ and q1 is $|0\\rangle$. Be careful because most of the literature in quantum computing use the Big Endian notation (qubit 0 is the leftmost bit).\n",
    "\n",
    "\n",
    "\n",
    "\n",
    "Another thing to notice is that when representing a quantum circuit, in both cases $|q_0\\rangle$ is written at the top of the circuit.\n"
   ]
  },
  {
   "cell_type": "code",
   "execution_count": null,
   "metadata": {
    "scrolled": true,
    "tags": []
   },
   "outputs": [],
   "source": [
    "# Draw a Bloch sphere\n",
    "plot_bloch_multivector(result)"
   ]
  },
  {
   "cell_type": "markdown",
   "metadata": {},
   "source": [
    "### Qiskit Aer Simulator\n",
    "Next, let's measure this circuit using Qiskit Aer simulator.  Qiskit Aer simulator simulates an ideal (with no noise) quantum hardware by default. (Note: An Aer simulator can also apply a noise model based on real backend.)    \n",
    "We should add the measurement gates."
   ]
  },
  {
   "cell_type": "code",
   "execution_count": null,
   "metadata": {
    "scrolled": true,
    "tags": []
   },
   "outputs": [],
   "source": [
    "# Create a new circuit with two qubits (first argument) and two classical bits (second argument)\n",
    "qc = QuantumCircuit(2,2)\n",
    "\n",
    "# Apply the gates\n",
    "qc.h(0)\n",
    "qc.h(1)\n",
    "\n",
    "# Add the measurement gates\n",
    "qc.measure(0,0)    # Measure qubit 0 and save the result in bit 0\n",
    "qc.measure(1,1)    # Measure qubit 1 and save the result in bit 1\n",
    "\n",
    "# Draw the circuit\n",
    "qc.draw(output=\"mpl\")"
   ]
  },
  {
   "cell_type": "markdown",
   "metadata": {},
   "source": [
    "With the measurements, we are now ready to run our circuit on a Aer simulator. In this example, we will apply shots=1024, which means we will measure 1024 times. Then we will plot those counts in a histograpm."
   ]
  },
  {
   "cell_type": "code",
   "execution_count": null,
   "metadata": {},
   "outputs": [],
   "source": [
    "# Run the circuit on a simulator to get the results\n",
    "backend = AerSimulator()\n",
    "sampler = Sampler(backend)\n",
    "job = sampler.run([qc])\n",
    "result = job.result()\n",
    "\n",
    "# Print the results\n",
    "counts = result[0].data.c.get_counts()\n",
    "print(counts)\n",
    "\n",
    "# Plot the counts in a histogram\n",
    "\n",
    "plot_histogram( counts )"
   ]
  },
  {
   "cell_type": "markdown",
   "metadata": {},
   "source": [
    "As expected, the states $|00\\rangle$, $|01\\rangle$, $|10\\rangle$, $|11\\rangle$ were measured almost 25% each."
   ]
  },
  {
   "cell_type": "markdown",
   "metadata": {},
   "source": [
    "## 2.3 Run on a real quantum device by following Qiskit Patterns\n",
    "\n",
    "Let us create a Bell state and run it on a real quantum computer;\n",
    "\n",
    "$$\\frac{1}{\\sqrt{2}}|00\\rangle + \\frac{1}{\\sqrt{2}}|11\\rangle$$\n",
    "\n",
    "Now we will follow the four steps to writing a quantum program, called Qiskit Patterns:\n",
    "\n",
    "    1. Map the problem to a quantum-native format\n",
    "    2. Optimize the circuits\n",
    "    3. Execute the target circuit\n",
    "    4. Postprocess the results\n",
    "\n",
    "\n",
    "\n"
   ]
  },
  {
   "cell_type": "markdown",
   "metadata": {},
   "source": [
    "### Step 1. Map the problem to a quantum-native format\n",
    "\n",
    "In a quantum program, quantum circuits are the native format in which to represent quantum instructions. \n",
    "\n",
    "The following code cell creates a circuit that produces a Bell state, which is a specific two-qubit entangled state. We should add the measurement gates to measure the result of quantum circuit."
   ]
  },
  {
   "cell_type": "code",
   "execution_count": null,
   "metadata": {},
   "outputs": [],
   "source": [
    "qc = QuantumCircuit(2, 2)\n",
    "\n",
    "qc.h(0)\n",
    "qc.cx(0, 1)\n",
    "\n",
    "qc.measure(0, 0)\n",
    "qc.measure(1, 1) \n",
    "\n",
    "qc.draw(\"mpl\")"
   ]
  },
  {
   "cell_type": "markdown",
   "metadata": {},
   "source": [
    "### Step 2. Optimize the circuits and operators\n",
    "\n",
    "Qiskit converts abstract circuits to QISA (Quantum Instruction Set Architecture) circuits that respect the constraints of the target hardware and optimizes circuit performance.  Before the optimization, we will specify the target hardware.\n"
   ]
  },
  {
   "cell_type": "code",
   "execution_count": null,
   "metadata": {
    "scrolled": true,
    "tags": []
   },
   "outputs": [],
   "source": [
    "# If this is your first time running your circuit on a real device,\n",
    "# make sure you copy your API Token from [IBM Quantum Platform](https://quantum.ibm.com/)\n",
    "QiskitRuntimeService.save_account(channel='ibm_quantum', instance='ibm-q/open/main', token='<IBM Quantum API key>', overwrite=True)\n",
    "\n",
    "service = QiskitRuntimeService()\n",
    "service.backends()"
   ]
  },
  {
   "cell_type": "code",
   "execution_count": null,
   "metadata": {},
   "outputs": [],
   "source": [
    "#You can also identify the least busy device\n",
    "backend = service.least_busy(operational=True)\n",
    "print(\"The least busy device is \", backend)"
   ]
  },
  {
   "cell_type": "code",
   "execution_count": null,
   "metadata": {},
   "outputs": [],
   "source": [
    "# You can specifiy the device \n",
    "#backend = service.backend('ibm_kawasaki')\n",
    "backend = service.backend('ibm_sherbrooke')"
   ]
  },
  {
   "cell_type": "code",
   "execution_count": null,
   "metadata": {},
   "outputs": [],
   "source": [
    "plot_gate_map(backend)"
   ]
  },
  {
   "cell_type": "markdown",
   "metadata": {},
   "source": [
    "Different devices may have different coupling maps. \n",
    "Transpiling the circuit is to compile the circuit optimized for execution on a real machine backend."
   ]
  },
  {
   "cell_type": "code",
   "execution_count": null,
   "metadata": {},
   "outputs": [],
   "source": [
    "# Transpile the circuit into basis gates executable on the hardware\n",
    "pm = generate_preset_pass_manager(backend=backend, optimization_level=3)\n",
    "target_circuit = pm.run(qc)\n",
    "\n",
    "target_circuit.draw(\"mpl\", idle_wires=False)"
   ]
  },
  {
   "cell_type": "markdown",
   "metadata": {},
   "source": [
    "By transpiling the circuit, it was converted to a circuit using the native basis gates of the device. "
   ]
  },
  {
   "cell_type": "markdown",
   "metadata": {},
   "source": [
    "### Step 3. Execute the target circuit\n",
    "\n",
    "Now, we will run the target circuit on the real device."
   ]
  },
  {
   "cell_type": "code",
   "execution_count": null,
   "metadata": {},
   "outputs": [],
   "source": [
    "sampler = Sampler(backend)\n",
    "job_real = sampler.run([target_circuit])\n",
    "\n",
    "print(\"job id:\", job_real.job_id())"
   ]
  },
  {
   "cell_type": "markdown",
   "metadata": {},
   "source": [
    "Execution on the real device will be done in sequence, so the job_id is used to check the execution status and results of the job later."
   ]
  },
  {
   "cell_type": "code",
   "execution_count": null,
   "metadata": {
    "scrolled": true,
    "tags": []
   },
   "outputs": [],
   "source": [
    "# Check the job status\n",
    "job_real.status()"
   ]
  },
  {
   "cell_type": "markdown",
   "metadata": {},
   "source": [
    "You can also check the job status from your IBM Quantum Dashboard：https://quantum.ibm.com/workloads"
   ]
  },
  {
   "cell_type": "code",
   "execution_count": null,
   "metadata": {
    "tags": []
   },
   "outputs": [],
   "source": [
    "# If the Notebook session got disconnected you can also check your job statuse by running the following code\n",
    "from qiskit_ibm_runtime import QiskitRuntimeService\n",
    "# for Google Colab users\n",
    "#service = QiskitRuntimeService(channel='ibm_quantum',instance='ibm-q/open/main',token='<IBM Quantum API key>')\n",
    "# for local Qiskit users\n",
    "service = QiskitRuntimeService()\n",
    "job_real = service.job('czsx71wqnmvg008v5ntg') # Input your job-id between the quotations\n",
    "job_real.status()"
   ]
  },
  {
   "cell_type": "code",
   "execution_count": null,
   "metadata": {
    "scrolled": true,
    "tags": []
   },
   "outputs": [],
   "source": [
    "# Execute after the job has 'DONE'\n",
    "result_real = job_real.result()\n",
    "print(result_real[0].data.c.get_counts())"
   ]
  },
  {
   "cell_type": "markdown",
   "metadata": {},
   "source": [
    "### Step 4. Postprocess the results\n",
    "\n",
    "Finally, we must post-process our results to create outputs in the expected format like values or graphs."
   ]
  },
  {
   "cell_type": "code",
   "execution_count": null,
   "metadata": {},
   "outputs": [],
   "source": [
    "plot_histogram(result_real[0].data.c.get_counts())"
   ]
  },
  {
   "cell_type": "markdown",
   "metadata": {},
   "source": [
    "As you can see, $|00\\rangle$ and $|11\\rangle$ are the most frequently observed. There are a few results other than the expected data, and they are due to noise and qubit decoherence. We will learn more about errors and noise in quantum computers in the later lessons of this course."
   ]
  },
  {
   "cell_type": "markdown",
   "metadata": {},
   "source": [
    "## 2.4 Quantum State Tomography"
   ]
  },
  {
   "cell_type": "markdown",
   "metadata": {},
   "source": [
    "An arbitrary quantum state of a qubit is written as\n",
    "\n",
    "$$|\\psi\\rangle =\\cos\\frac{\\theta}{2}|0\\rangle+e^{i\\varphi}\\sin\\frac{\\theta}{2}|1\\rangle= \n",
    "\\left(\n",
    "\\begin{matrix}\n",
    "\\cos\\frac{\\theta}{2}\\\\\n",
    "e^{i\\varphi}\\sin\\frac{\\theta}{2}\n",
    "\\end{matrix}\n",
    "\\right)\n",
    ".$$\n",
    "\n",
    "\n",
    "We can wirte the quantum state $|\\psi \\rangle$ as its density matrix $\\rho$\n",
    "\n",
    "$$\\rho = \\frac{1}{2}\\bigl( \\textbf{I} + (\\sin{\\theta}\\cos{\\varphi})\\textbf{X}+  (\\sin{\\theta}\\sin{\\varphi})\\textbf{Y} +  (\\cos{\\theta})\\textbf{Z} \\bigr)$$\n",
    "\n",
    "Or, in general,\n",
    "\n",
    "\n",
    "$$\\rho = \\frac{1}{2}(\\textbf{I} + r_{x}\\textbf{X}+ r_{y}\\textbf{Y} + r_{z}\\textbf{Z})$$\n",
    "where\n",
    "$r_{x}^2+r_{y}^2+r_{z}^2=1$.\n",
    "\n",
    "And, the Bloch vector is $\\textbf{r} = (r_{x}, r_{y}, r_{z})$.\n",
    "\n",
    "Let's make an arbitrary quantum state using randome number. "
   ]
  },
  {
   "cell_type": "code",
   "execution_count": null,
   "metadata": {},
   "outputs": [],
   "source": [
    "import numpy as np\n",
    "import matplotlib.pyplot as plt\n",
    "#create a random 1-qubit state from a random (theta, varphi) to define r vector\n",
    "np.random.seed(1) #fixing seed for repeatibility\n",
    "\n",
    "theta = np.random.uniform(0.0, 1.0) * np.pi    #from 0 to pi\n",
    "varphi = np.random.uniform(0.0, 2.0) * np.pi    #from 0 to 2*pi\n",
    "\n",
    "def get_r_vec(theta, varphi):\n",
    "    rx = np.sin(theta) * np.cos(varphi)\n",
    "    ry = np.sin(theta) * np.sin(varphi)\n",
    "    rz = np.cos(theta)\n",
    "    return (rx, ry, rz)\n",
    "\n",
    "# get r vector\n",
    "rx, ry, rz = get_r_vec(theta, varphi)\n",
    "\n",
    "print(\"theta=\"+str(theta), \",varphi=\"+str(varphi))\n",
    "print(\"(rx, ry, rz) = (\" + str(rx) + \", \" + str(ry) + \", \" + str(rz) + \")\")"
   ]
  },
  {
   "cell_type": "markdown",
   "metadata": {},
   "source": [
    "We can show this bloch vector on the Bloch sphere."
   ]
  },
  {
   "cell_type": "code",
   "execution_count": null,
   "metadata": {},
   "outputs": [],
   "source": [
    "r = [rx, ry, rz]\n",
    "plot_bloch_vector(r)"
   ]
  },
  {
   "cell_type": "markdown",
   "metadata": {},
   "source": [
    "### Estimate $r_z$ value\n",
    "\n",
    "In order to estimate $r_z$, we create a quantum state and measure it and then repeat it many times, and then we will take the statistics of the measurement.\n",
    "\n",
    "For creating the quantum state, we will use $U$gate with the parameter; $ \\theta, \\varphi$. (Please refer [U-gate](https://qiskit.org/documentation/stubs/qiskit.circuit.library.UGate.html) document.)"
   ]
  },
  {
   "cell_type": "code",
   "execution_count": null,
   "metadata": {},
   "outputs": [],
   "source": [
    "from qiskit import QuantumCircuit\n",
    "\n",
    "#create a 1-qubit quantum state psi from theta, varphi parameters\n",
    "qc = QuantumCircuit(1, 1)\n",
    "qc.u(theta, varphi, 0.0, 0)\n",
    "\n",
    "#measure in computational basis\n",
    "qc.measure(0,0)\n",
    "\n",
    "qc.draw(output=\"mpl\")"
   ]
  },
  {
   "cell_type": "markdown",
   "metadata": {},
   "source": [
    "Using `AerSimulator`, we will mesure it in the computational basis to estimate $r_z$."
   ]
  },
  {
   "cell_type": "code",
   "execution_count": null,
   "metadata": {},
   "outputs": [],
   "source": [
    "# see if the expected value of measuring in the computational basis \n",
    "# approaches the limit of rz\n",
    "from qiskit_aer import AerSimulator\n",
    "from qiskit.transpiler.preset_passmanagers import generate_preset_pass_manager\n",
    "from qiskit_ibm_runtime import Sampler\n",
    "\n",
    "# Define backend\n",
    "backend = AerSimulator()\n",
    "nshots = 1000 # or 10000\n",
    "#nshots = 10000\n",
    "\n",
    "# Transpile to backend\n",
    "pm = generate_preset_pass_manager(backend=backend, optimization_level=1)\n",
    "isa_qc = pm.run(qc)\n",
    "\n",
    "# Run the job\n",
    "sampler = Sampler(mode=backend)\n",
    "job = sampler.run([isa_qc], shots=nshots)\n",
    "result = job.result()\n",
    "\n",
    "# Extract counts data\n",
    "counts = result[0].data.c.get_counts()\n",
    "print(counts)\n",
    "\n",
    "# Plot the counts in a histogram\n",
    "from qiskit.visualization import plot_histogram\n",
    "plot_histogram(counts)"
   ]
  },
  {
   "cell_type": "code",
   "execution_count": null,
   "metadata": {},
   "outputs": [],
   "source": [
    "rz_approx = (counts['0'] - counts['1'])/nshots\n",
    "\n",
    "print(\"rz = \", rz, \" and approx of rz = \", rz_approx)"
   ]
  },
  {
   "cell_type": "markdown",
   "metadata": {},
   "source": [
    "Using Quantum State Tomography method, we estimated the $r_z$ value. "
   ]
  },
  {
   "cell_type": "markdown",
   "metadata": {},
   "source": [
    "## Exercise 2 - Estimate $r_x$ and $r_y$ value\n",
    "Build the code to estimate the value of $r_x$ in the quantum state tomography."
   ]
  },
  {
   "cell_type": "code",
   "execution_count": null,
   "metadata": {},
   "outputs": [],
   "source": [
    "#create a 1-qubit quantum state psi from theta, varphi parameters\n",
    "qc = QuantumCircuit(1, 1)\n",
    "qc.u(theta, varphi, 0.0, 0)\n",
    "\n",
    "##your code goes here##\n",
    "\n",
    "\n",
    "\n",
    "qc.draw(output=\"mpl\")"
   ]
  },
  {
   "cell_type": "code",
   "execution_count": null,
   "metadata": {},
   "outputs": [],
   "source": [
    "# Define backend\n",
    "backend = AerSimulator()\n",
    "nshots = 10000\n",
    "\n",
    "# Transpile to backend\n",
    "pm = generate_preset_pass_manager(backend=backend, optimization_level=1)\n",
    "isa_qc = pm.run(qc)\n",
    "\n",
    "# Run the job\n",
    "sampler = Sampler(mode=backend)\n",
    "job = sampler.run([isa_qc], shots=nshots)\n",
    "result = job.result()\n",
    "\n",
    "# Extract counts data\n",
    "counts = result[0].data.c.get_counts()\n",
    "print(counts)\n",
    "\n",
    "# Plot the counts in a histogram\n",
    "plot_histogram(counts)"
   ]
  },
  {
   "cell_type": "code",
   "execution_count": null,
   "metadata": {},
   "outputs": [],
   "source": [
    "rx_approx = (counts['0'] - counts['1'])/nshots\n",
    "\n",
    "print(\"rx = \", rx, \" and approx of rx = \", rx_approx)"
   ]
  },
  {
   "cell_type": "markdown",
   "metadata": {},
   "source": [
    "Build the code to estimate the value of $r_y$ in the quantum state tomography.    \n",
    "For more information about the various gates, please refer [this](https://docs.quantum.ibm.com/api/qiskit/qiskit.circuit.QuantumCircuit#sdg)."
   ]
  },
  {
   "cell_type": "code",
   "execution_count": null,
   "metadata": {},
   "outputs": [],
   "source": [
    "#create a 1-qubit quantum state psi from theta, varphi parameters\n",
    "qc = QuantumCircuit(1, 1)\n",
    "qc.u(theta, varphi, 0.0, 0)\n",
    "\n",
    "##your code goes here##\n",
    "\n",
    "\n",
    "\n",
    "\n",
    "qc.draw(output=\"mpl\")"
   ]
  },
  {
   "cell_type": "code",
   "execution_count": null,
   "metadata": {},
   "outputs": [],
   "source": [
    "# Define backend\n",
    "backend = AerSimulator()\n",
    "nshots = 10000\n",
    "\n",
    "# Transpile to backend\n",
    "pm = generate_preset_pass_manager(backend=backend, optimization_level=1)\n",
    "isa_qc = pm.run(qc)\n",
    "\n",
    "# Run the job\n",
    "sampler = Sampler(mode=backend)\n",
    "job = sampler.run([isa_qc], shots=nshots)\n",
    "result = job.result()\n",
    "\n",
    "# Extract counts data\n",
    "counts = result[0].data.c.get_counts()\n",
    "print(counts)\n",
    "\n",
    "# Plot the counts in a histogram\n",
    "plot_histogram(counts)"
   ]
  },
  {
   "cell_type": "code",
   "execution_count": null,
   "metadata": {},
   "outputs": [],
   "source": [
    "ry_approx = (counts['0'] - counts['1'])/nshots\n",
    "\n",
    "print(\"ry = \", ry, \" and approx of ry = \", ry_approx)"
   ]
  },
  {
   "cell_type": "code",
   "execution_count": null,
   "metadata": {},
   "outputs": [],
   "source": [
    "print(\"Estimated vector is (\", rx_approx,\",\",ry_approx,\",\",rz_approx,\").\")\n",
    "print(\"Original random vector was (\" + str(rx) + \", \" + str(ry) + \", \" + str(rz) + \").\")"
   ]
  },
  {
   "cell_type": "markdown",
   "metadata": {},
   "source": [
    "You got the estimation value of the original random vector using this quantum sate tomography method. "
   ]
  },
  {
   "cell_type": "markdown",
   "metadata": {},
   "source": [
    "## 2.5 Quantum Teleportation"
   ]
  },
  {
   "cell_type": "markdown",
   "metadata": {},
   "source": [
    "To build the Quantum Teleportation circuit, we need three qubits: two for the entangled pair shared by Alice and Bob, and one for the unknown quantum state $|\\psi\\rangle$."
   ]
  },
  {
   "cell_type": "code",
   "execution_count": null,
   "metadata": {},
   "outputs": [],
   "source": [
    "# create 3-qubits circuit\n",
    "qc = QuantumCircuit(3,3)    \n",
    "\n",
    "qc.draw(output=\"mpl\")"
   ]
  },
  {
   "cell_type": "code",
   "execution_count": null,
   "metadata": {},
   "outputs": [],
   "source": [
    "# Alice creates an unknown quantum state using the u-gate.\n",
    "qc.u(theta, varphi, 0.0, 0)\n",
    "qc.barrier()    # for visual separation\n",
    "\n",
    "qc.draw(output=\"mpl\")"
   ]
  },
  {
   "cell_type": "code",
   "execution_count": null,
   "metadata": {},
   "outputs": [],
   "source": [
    "# show the quantum state on bloch sphere\n",
    "from qiskit.quantum_info import Statevector\n",
    "out_vector = Statevector(qc)\n",
    "\n",
    "from qiskit.visualization import plot_bloch_multivector\n",
    "plot_bloch_multivector(out_vector)"
   ]
  },
  {
   "cell_type": "code",
   "execution_count": null,
   "metadata": {},
   "outputs": [],
   "source": [
    "# Eve creates an EPR pair, send one qubit to Alice and the other to Bob.\n",
    "qc.h(1)\n",
    "qc.cx(1, 2)\n",
    "qc.barrier()    # for visual separation\n",
    "\n",
    "qc.draw(output=\"mpl\")"
   ]
  },
  {
   "cell_type": "code",
   "execution_count": null,
   "metadata": {},
   "outputs": [],
   "source": [
    "# Alice entangles the unknown state with her EPR part, using the CNOT gate & H gate.\n",
    "qc.cx(0, 1)\n",
    "qc.h(0)\n",
    "qc.barrier()\n",
    "\n",
    "# Alice measures the two qubits.\n",
    "qc.measure(0, 0)\n",
    "qc.measure(1, 1)\n",
    "\n",
    "qc.draw(output=\"mpl\")"
   ]
  },
  {
   "cell_type": "code",
   "execution_count": null,
   "metadata": {},
   "outputs": [],
   "source": [
    "# Alice sent the results to Bob. Now, Bob applies correction\n",
    "with qc.if_test((0, 1)):   \n",
    "    qc.z(2)\n",
    "with qc.if_test((1, 1)):\n",
    "    qc.x(2)\n",
    "qc.barrier()\n",
    "\n",
    "qc.draw(output=\"mpl\")"
   ]
  },
  {
   "cell_type": "markdown",
   "metadata": {},
   "source": [
    "You have completed to build the quantum teleportation circuit! Let's see the output state of this circuit using the statevector simulator.\n"
   ]
  },
  {
   "cell_type": "code",
   "execution_count": null,
   "metadata": {},
   "outputs": [],
   "source": [
    "backend = StatevectorSimulator()\n",
    "out_vector = backend.run(qc, shots=1).result().get_statevector()    # set shots = 1\n",
    "\n",
    "plot_bloch_multivector(out_vector)"
   ]
  },
  {
   "cell_type": "markdown",
   "metadata": {},
   "source": [
    "You can see that the quantum state created by u-gate of qubit 0 has been transferred to qubit 2.\n",
    "\n",
    "You can run above cell a few times to make sure. You may notice that the qubits 0 & 1 change states, but qubit 2 is always in the state $|\\psi\\rangle $."
   ]
  },
  {
   "cell_type": "markdown",
   "metadata": {},
   "source": [
    "### Confirm the result by applying U inverse.\n",
    "\n",
    "To check if the quantum state has been teleported correctly, we apply the inverse of u-gate on Bob's qubit so that we can measure '0'."
   ]
  },
  {
   "cell_type": "code",
   "execution_count": null,
   "metadata": {},
   "outputs": [],
   "source": [
    "# Apply the inverse of u-gate to measure |0>   \n",
    "qc.u(theta, varphi, 0.0, 2).inverse()    # inverse of u(theta,varphi,0.0)\n",
    "qc.measure(2, 2) # add measurement gate\n",
    "\n",
    "qc.draw(output=\"mpl\")"
   ]
  },
  {
   "cell_type": "markdown",
   "metadata": {},
   "source": [
    "First, we will execute the circuit using AerSimulator."
   ]
  },
  {
   "cell_type": "code",
   "execution_count": null,
   "metadata": {},
   "outputs": [],
   "source": [
    "# Define backend\n",
    "backend = AerSimulator()\n",
    "\n",
    "# Transpile to backend\n",
    "pm = generate_preset_pass_manager(backend=backend, optimization_level=1)\n",
    "isa_qc = pm.run(qc)\n",
    "\n",
    "# Run the job\n",
    "sampler = Sampler(mode=backend)\n",
    "job = sampler.run([isa_qc], shots=10000)\n",
    "result = job.result()\n",
    "\n",
    "# Extract counts data\n",
    "counts = result[0].data.c.get_counts()\n",
    "print(counts)\n",
    "\n",
    "# Plot the counts in a histogram\n",
    "plot_histogram(counts)"
   ]
  },
  {
   "cell_type": "markdown",
   "metadata": {},
   "source": [
    "We can see we have a 100% chance of measuring $q_2$ (the leftmost bit) in the state $|0\\rangle $. This is the expected result, and indicates the teleportation protocol has worked properly."
   ]
  },
  {
   "cell_type": "markdown",
   "metadata": {},
   "source": [
    "### Teleportation on a Real Quantum Computer\n",
    "\n",
    "\n",
    "Next, we will perform it on the real qunatum device. Using the dynamic circuit function, we can operate mid-circuit measurements and real-time conditinals operations in the teleportation circuit.  And now, we will follow 4 steps of Qiskit Patterns.\n",
    "\n",
    "    1. Map the problem to a quantum-native format\n",
    "    2. Optimize the circuits\n",
    "    3. Execute the target circuit\n",
    "    4. Postprocess the results"
   ]
  },
  {
   "cell_type": "markdown",
   "metadata": {},
   "source": [
    "## Exercise 3: Build a teleportation circuit\n",
    "\n",
    "Let's build whole teleportation circuit! It's just coding for practice."
   ]
  },
  {
   "cell_type": "code",
   "execution_count": null,
   "metadata": {},
   "outputs": [],
   "source": [
    "# Step 1: Map the problem to a quantum-native format\n",
    "# Create the circuit with 3-qubits and 3-bits\n",
    "qc = QuantumCircuit(3,3)    \n",
    "\n",
    "# Alice creates an unknown quantum state using the u-gate.\n",
    "qc.u(theta, varphi, 0.0, 0)\n",
    "qc.barrier()    # for visual separation\n",
    "\n",
    "# Eve creates EPR pair and sends q1 to Alice and q2 to Bob\n",
    "##your code goes here##\n",
    "\n",
    "\n",
    "\n",
    "\n",
    "# Alice entangles the unknown state with her EPR part, using the CNOT gate & H gate.\n",
    "##your code goes here##\n",
    "\n",
    "\n",
    "\n",
    "# Alice measures the two qubits.\n",
    "##your code goes here##\n",
    "\n",
    "\n",
    "\n",
    "# Alice sent the results to Bob. Now, Bob applies correction\n",
    "##your code goes here##\n",
    "\n",
    "\n",
    "\n",
    "# Apply the inverse of u-gate to measure |0>   \n",
    "qc.u(theta, varphi, 0.0, 2).inverse()    \n",
    "qc.measure(2, 2)\n",
    "\n",
    "qc.draw(output=\"mpl\")"
   ]
  },
  {
   "cell_type": "markdown",
   "metadata": {},
   "source": [
    "By applying the inverse of u-gate, you can measure 0."
   ]
  },
  {
   "cell_type": "code",
   "execution_count": null,
   "metadata": {},
   "outputs": [],
   "source": [
    "#You can also identify the least busy device\n",
    "backend = service.least_busy(operational=True)\n",
    "print(\"The least busy device is \", backend)"
   ]
  },
  {
   "cell_type": "code",
   "execution_count": null,
   "metadata": {},
   "outputs": [],
   "source": [
    "# You can specifiy the device \n",
    "#backend = service.backend('ibm_kawasaki')\n",
    "backend = service.backend('ibm_kyiv')"
   ]
  },
  {
   "cell_type": "code",
   "execution_count": null,
   "metadata": {},
   "outputs": [],
   "source": [
    "# Step 2: Optimize the circuits\n",
    "# Transpile the circuit into basis gates executable on the hardware\n",
    "\n",
    "pm = generate_preset_pass_manager(backend=backend, optimization_level=3)\n",
    "qc_compiled = pm.run(qc)\n",
    "\n",
    "qc_compiled.draw(\"mpl\", idle_wires=False)"
   ]
  },
  {
   "cell_type": "code",
   "execution_count": null,
   "metadata": {},
   "outputs": [],
   "source": [
    "# Step 3: Execute the target circuit\n",
    "sampler = Sampler(backend)\n",
    "job = sampler.run([qc_compiled])\n",
    "\n",
    "print(\"job id:\", job.job_id()) "
   ]
  },
  {
   "cell_type": "code",
   "execution_count": null,
   "metadata": {},
   "outputs": [],
   "source": [
    "# Check the job status\n",
    "job.status()"
   ]
  },
  {
   "cell_type": "markdown",
   "metadata": {},
   "source": [
    "You can also check the job status from your IBM Quantum Dashboard：https://quantum.cloud.ibm.com/workloads"
   ]
  },
  {
   "cell_type": "code",
   "execution_count": null,
   "metadata": {},
   "outputs": [],
   "source": [
    "# If the Notebook session got disconnected you can also check your job statuse by running the following code\n",
    "from qiskit_ibm_runtime import QiskitRuntimeService\n",
    "# for Google Colab users\n",
    "#service = QiskitRuntimeService(channel='ibm_quantum',instance='ibm-q/open/main',token='<IBM Quantum API key>')\n",
    "# for local Qiskit users\n",
    "service = QiskitRuntimeService()\n",
    "job_real = service.job('czsxa08rxz8g008e8400') # Input your job-id between the quotations\n",
    "job_real.status()"
   ]
  },
  {
   "cell_type": "code",
   "execution_count": null,
   "metadata": {},
   "outputs": [],
   "source": [
    "# Execute after 'DONE' is displayed\n",
    "result_real = job_real.result()\n",
    "print(result_real[0].data.c.get_counts())"
   ]
  },
  {
   "cell_type": "code",
   "execution_count": null,
   "metadata": {},
   "outputs": [],
   "source": [
    "# Step 4: Postprocess the results\n",
    "from qiskit.visualization import plot_histogram\n",
    "plot_histogram(result_real[0].data.c.get_counts())"
   ]
  },
  {
   "cell_type": "code",
   "execution_count": null,
   "metadata": {},
   "outputs": [],
   "source": [
    "# trace out Bob's results on qubit 2\n",
    "\n",
    "bobs_qubit = 2\n",
    "real_counts = result_real[0].data.c.get_counts()\n",
    "bobs_counts = marginal_counts(real_counts, [bobs_qubit])\n",
    "plot_histogram(bobs_counts)"
   ]
  },
  {
   "cell_type": "markdown",
   "metadata": {},
   "source": [
    "As we see here, there are a few results in which we measured $|1 \\rangle$. These are due to errors in the gates and qubit decoherence. In particular, Dynamic Circuits tend to have a higher error rate because of the time-consuming measurement in the middle of the circuit."
   ]
  }
 ],
 "metadata": {
  "kernelspec": {
   "display_name": "Python 3 (ipykernel)",
   "language": "python",
   "name": "python3"
  },
  "language_info": {
   "codemirror_mode": {
    "name": "ipython",
    "version": 3
   },
   "file_extension": ".py",
   "mimetype": "text/x-python",
   "name": "python",
   "nbconvert_exporter": "python",
   "pygments_lexer": "ipython3",
   "version": "3.12.3"
  },
  "widgets": {
   "application/vnd.jupyter.widget-state+json": {
    "state": {},
    "version_major": 2,
    "version_minor": 0
   }
  }
 },
 "nbformat": 4,
 "nbformat_minor": 4
}
